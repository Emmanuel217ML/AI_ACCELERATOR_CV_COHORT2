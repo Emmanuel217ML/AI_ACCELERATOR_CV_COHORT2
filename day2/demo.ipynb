{
 "cells": [
  {
   "cell_type": "code",
   "execution_count": 1,
   "id": "2d00b3c7",
   "metadata": {},
   "outputs": [],
   "source": [
    "import cv2\n",
    "import numpy as np \n",
    "import matplotlib.pyplot as plt"
   ]
  },
  {
   "cell_type": "code",
   "execution_count": 37,
   "id": "89587071",
   "metadata": {},
   "outputs": [
    {
     "name": "stdout",
     "output_type": "stream",
     "text": [
      "Image shape: (671, 1000, 3)\n"
     ]
    }
   ],
   "source": [
    "image = cv2.imread('images/white_board.png')\n",
    "\n",
    "print(f\"Image shape: {image.shape}\")\n",
    "\n",
    "# Draw a red rectangle\n",
    "cv2.line(image, (50, 100), (150, 100), (0, 255, 0), 3)\n",
    "\n",
    "# Draw a filled rectangle\n",
    "cv2.rectangle(image, (200, 350), (450, 600), (0, 0, 255), -1)  # Filled rectangle\n",
    "\n",
    "# draw a circle\n",
    "cv2.circle(image, (650, 200), 150, (255, 0 , 0), 10)\n",
    "\n",
    "#add text\n",
    "cv2.putText(image, 'Emmanuel!', (100, 200), cv2.FONT_HERSHEY_COMPLEX, 5, (255, 255, 0), 10)\n",
    "\n",
    "cv2.imshow('Original Image', image)\n",
    "\n",
    "cv2.waitKey(0)  \n",
    "cv2.destroyAllWindows()"
   ]
  },
  {
   "cell_type": "code",
   "execution_count": 58,
   "id": "0d472775",
   "metadata": {},
   "outputs": [],
   "source": [
    "image = cv2.imread('images/birds.jpg')\n",
    "\n",
    "image_gray = cv2.cvtColor(image, cv2.COLOR_BGR2GRAY)\n",
    "ret, tresh = cv2.threshold(image_gray, 127, 255, cv2.THRESH_BINARY_INV)\n",
    "\n",
    "contours, hierarchy = cv2.findContours(tresh, cv2.RETR_TREE, cv2.CHAIN_APPROX_SIMPLE)\n",
    "for cnt in contours:\n",
    "    if cv2.contourArea(cnt) > 50:\n",
    "        cv2.drawContours(image, cnt, -1, (0, 255, 0), 1)\n",
    "\n",
    "cv2.imshow('Birds', image)\n",
    "cv2.imshow('tresh_birds', tresh)\n",
    "\n",
    "\n",
    "cv2.waitKey(0)\n",
    "cv2.destroyAllWindows()"
   ]
  },
  {
   "cell_type": "code",
   "execution_count": 57,
   "id": "95ade95b",
   "metadata": {},
   "outputs": [],
   "source": [
    "image = cv2.imread('images/messi.png')\n",
    "image_edge = cv2.Canny(image, 30, 200)\n",
    "image_edge_d = cv2.dilate(image_edge, np.ones((3,3), dtype= np.uint8))\n",
    "image_edge_e = cv2.erode(image_edge_d, np.ones((3,3), dtype= np.uint8))\n",
    "\n",
    "cv2.imshow('frame', image)\n",
    "cv2.imshow('edge', image_edge) \n",
    "cv2.imshow('edge_d', image_edge_d)\n",
    "cv2.imshow('edge_e', image_edge_e)\n",
    "cv2.waitKey(0)\n",
    "cv2.destroyAllWindows()"
   ]
  },
  {
   "cell_type": "code",
   "execution_count": null,
   "id": "7be3273b",
   "metadata": {},
   "outputs": [],
   "source": []
  },
  {
   "cell_type": "code",
   "execution_count": null,
   "id": "b8039aa8",
   "metadata": {},
   "outputs": [],
   "source": []
  }
 ],
 "metadata": {
  "kernelspec": {
   "display_name": "base",
   "language": "python",
   "name": "python3"
  },
  "language_info": {
   "codemirror_mode": {
    "name": "ipython",
    "version": 3
   },
   "file_extension": ".py",
   "mimetype": "text/x-python",
   "name": "python",
   "nbconvert_exporter": "python",
   "pygments_lexer": "ipython3",
   "version": "3.13.5"
  }
 },
 "nbformat": 4,
 "nbformat_minor": 5
}
